{
  "nbformat": 4,
  "nbformat_minor": 0,
  "metadata": {
    "colab": {
      "name": "open_txt_Graph.ipynb",
      "provenance": [],
      "collapsed_sections": []
    },
    "kernelspec": {
      "name": "python3",
      "display_name": "Python 3"
    },
    "language_info": {
      "name": "python"
    }
  },
  "cells": [
    {
      "cell_type": "markdown",
      "metadata": {
        "id": "yIjISkKOPaRL"
      },
      "source": [
        "Comment the block below if you don´t use colab"
      ]
    },
    {
      "cell_type": "code",
      "metadata": {
        "colab": {
          "base_uri": "https://localhost:8080/"
        },
        "id": "UMN3UJN137qZ",
        "outputId": "cc2f1dcb-de9d-416a-e57f-74d64a740936"
      },
      "source": [
        "#from google.colab import drive #comment\n",
        "#drive.mount('/content/drive') #comment"
      ],
      "execution_count": 1,
      "outputs": [
        {
          "output_type": "stream",
          "text": [
            "Mounted at /content/drive\n"
          ],
          "name": "stdout"
        }
      ]
    },
    {
      "cell_type": "code",
      "metadata": {
        "id": "t6QzdRCBewYw",
        "colab": {
          "base_uri": "https://localhost:8080/"
        },
        "outputId": "a27ae3e8-39f6-4824-b89b-df50f1601aa5"
      },
      "source": [
        "import torch\n",
        "\n",
        "def format_pytorch_version(version):\n",
        "  return version.split('+')[0]\n",
        "\n",
        "TORCH_version = torch.__version__\n",
        "TORCH = format_pytorch_version(TORCH_version)\n",
        "\n",
        "def format_cuda_version(version):\n",
        "  return 'cu' + version.replace('.', '')\n",
        "\n",
        "CUDA_version = torch.version.cuda\n",
        "CUDA = format_cuda_version(CUDA_version)\n",
        "\n",
        "\n",
        "!pip install -q torch-scatter -f https://pytorch-geometric.com/whl/torch-1.8.0+cu101.html\n",
        "!pip install -q torch-sparse -f https://pytorch-geometric.com/whl/torch-1.8.0+cu101.html\n",
        "!pip install -q torch-cluster -f https://pytorch-geometric.com/whl/torch-1.8.0+cu101.html\n",
        "!pip install -q torch-spline-conv -f https://pytorch-geometric.com/whl/torch-1.8.0+cu101.html\n",
        "!pip install -q torch-geometric"
      ],
      "execution_count": 3,
      "outputs": [
        {
          "output_type": "stream",
          "text": [
            "\u001b[K     |████████████████████████████████| 2.6MB 319kB/s \n",
            "\u001b[K     |████████████████████████████████| 1.5MB 293kB/s \n",
            "\u001b[K     |████████████████████████████████| 1.0MB 7.4MB/s \n",
            "\u001b[K     |████████████████████████████████| 389kB 302kB/s \n",
            "\u001b[K     |████████████████████████████████| 215kB 8.9MB/s \n",
            "\u001b[K     |████████████████████████████████| 235kB 15.2MB/s \n",
            "\u001b[K     |████████████████████████████████| 2.2MB 18.4MB/s \n",
            "\u001b[K     |████████████████████████████████| 51kB 7.2MB/s \n",
            "\u001b[?25h  Building wheel for torch-geometric (setup.py) ... \u001b[?25l\u001b[?25hdone\n"
          ],
          "name": "stdout"
        }
      ]
    },
    {
      "cell_type": "code",
      "metadata": {
        "id": "Cek1xfr26FRd"
      },
      "source": [
        "from torch_geometric.utils import train_test_split_edges\n",
        "from torch_geometric.data.data import Data\n",
        "import numpy as np\n",
        "from sklearn.preprocessing import LabelEncoder\n",
        "\n",
        "from os import path"
      ],
      "execution_count": 4,
      "outputs": []
    },
    {
      "cell_type": "markdown",
      "metadata": {
        "id": "mmWeY-gNQkz7"
      },
      "source": [
        "Reading the dataset txt"
      ]
    },
    {
      "cell_type": "code",
      "metadata": {
        "id": "w9WP9KgdQ0rQ"
      },
      "source": [
        "name_data = ['arxiv', 'amazon', 'flickr', 'google', 'stanford']\n",
        "#path = '/content/drive/My Drive/PPGCC/open/' #path to the colab\n",
        "path = path.join('..', 'data')"
      ],
      "execution_count": 23,
      "outputs": []
    },
    {
      "cell_type": "code",
      "metadata": {
        "id": "Ofg6QbPN4Bbq",
        "colab": {
          "base_uri": "https://localhost:8080/"
        },
        "outputId": "0fb198d1-e509-46f3-9cde-d67e09ca6a2c"
      },
      "source": [
        "data_file = open(path + name_data[4] + '.txt', 'r') #insert the path of the data\n",
        "z=0 #variable for apoint to the 5th line\n",
        "data = [] #here has the nodes\n",
        "total_nodes = 0\n",
        "\n",
        "for line in data_file:\n",
        "  \n",
        "  if z>3:\n",
        "    data.append(list(map(int,line.split())))\n",
        "  \n",
        "  if 'nodes:' in line.lower() and 'edges:' in line.lower():\n",
        "    line_split = line.split()\n",
        "    print(line_split)\n",
        "    total_nodes = int(line_split[2])\n",
        "\n",
        "  z+=1\n",
        "\n",
        "data_file.close()\n",
        "total_nodes"
      ],
      "execution_count": 32,
      "outputs": [
        {
          "output_type": "stream",
          "text": [
            "['#', 'Nodes:', '281903', 'Edges:', '2312497']\n"
          ],
          "name": "stdout"
        },
        {
          "output_type": "execute_result",
          "data": {
            "text/plain": [
              "281903"
            ]
          },
          "metadata": {
            "tags": []
          },
          "execution_count": 32
        }
      ]
    },
    {
      "cell_type": "markdown",
      "metadata": {
        "id": "S1y7C5R7RIwy"
      },
      "source": [
        "Mount the dataset with the matrix features X; labels y; edges."
      ]
    },
    {
      "cell_type": "code",
      "metadata": {
        "id": "YTg-jLRnlB2V"
      },
      "source": [
        "le = LabelEncoder()\n",
        "edge1 = le.fit_transform(np.array(data).reshape(2,len(data))[0])\n",
        "edge2 = le.fit_transform(np.array(data).reshape(2,len(data))[1])\n",
        "\n",
        "edge_index = torch.cat((torch.tensor(edge1),torch.tensor(edge2))).view(2,-1)\n",
        "y = torch.ones(total_nodes)\n",
        "x = torch.eye(total_nodes)\n",
        "\n",
        "dataset=Data(x=x, edge_index=edge_index, edge_attr=None, y=y, pos=None, normal=None, face=None)"
      ],
      "execution_count": null,
      "outputs": []
    },
    {
      "cell_type": "markdown",
      "metadata": {
        "id": "IewznPGXRVMS"
      },
      "source": [
        "Split edges in train and test and validation (This operation consume a lot of RAM. CAUTION)"
      ]
    },
    {
      "cell_type": "code",
      "metadata": {
        "id": "YOfwWxmTd5HG"
      },
      "source": [
        "train_test_split_edges(dataset)"
      ],
      "execution_count": null,
      "outputs": []
    }
  ]
}