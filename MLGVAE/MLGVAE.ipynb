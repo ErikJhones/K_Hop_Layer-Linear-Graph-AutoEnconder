{
  "nbformat": 4,
  "nbformat_minor": 0,
  "metadata": {
    "accelerator": "GPU",
    "colab": {
      "name": "MLGVAE.ipynb",
      "provenance": [],
      "collapsed_sections": []
    },
    "kernelspec": {
      "display_name": "Python 3",
      "name": "python3"
    },
    "language_info": {
      "name": "python"
    }
  },
  "cells": [
    {
      "cell_type": "code",
      "metadata": {
        "id": "kg4doQYy90NF"
      },
      "source": [
        "import torch\n",
        "import warnings\n",
        "warnings.filterwarnings(\"ignore\")"
      ],
      "execution_count": null,
      "outputs": []
    },
    {
      "cell_type": "code",
      "metadata": {
        "id": "fT7LOKiN9xbb"
      },
      "source": [
        "def format_pytorch_version(version):\n",
        "  return version.split('+')[0]\n",
        "\n",
        "TORCH_version = torch.__version__\n",
        "TORCH = format_pytorch_version(TORCH_version)\n",
        "\n",
        "def format_cuda_version(version):\n",
        "  return 'cu' + version.replace('.', '')\n",
        "\n",
        "CUDA_version = torch.version.cuda\n",
        "CUDA = format_cuda_version(CUDA_version)\n",
        "\n",
        "\n",
        "!pip install -q torch-scatter -f https://pytorch-geometric.com/whl/torch-1.8.0+cu101.html\n",
        "!pip install -q torch-sparse -f https://pytorch-geometric.com/whl/torch-1.8.0+cu101.html\n",
        "!pip install -q torch-cluster -f https://pytorch-geometric.com/whl/torch-1.8.0+cu101.html\n",
        "!pip install -q torch-spline-conv -f https://pytorch-geometric.com/whl/torch-1.8.0+cu101.html\n",
        "!pip install -q torch-geometric\n",
        "!pip install ogb"
      ],
      "execution_count": null,
      "outputs": []
    },
    {
      "cell_type": "code",
      "metadata": {
        "colab": {
          "base_uri": "https://localhost:8080/"
        },
        "id": "tkPZNu8h95tm",
        "outputId": "fb79c69b-8247-446b-a571-e3ec3aa623c0"
      },
      "source": [
        "device = torch.device('cuda:0' if torch.cuda.is_available() else 'cpu')\n",
        "device"
      ],
      "execution_count": null,
      "outputs": [
        {
          "output_type": "execute_result",
          "data": {
            "text/plain": [
              "device(type='cuda', index=0)"
            ]
          },
          "metadata": {
            "tags": []
          },
          "execution_count": 3
        }
      ]
    },
    {
      "cell_type": "code",
      "metadata": {
        "id": "7MU2T99B9noy"
      },
      "source": [
        "from torch_geometric.datasets import Planetoid, Reddit, PPI, CitationFull, CoraFull\n",
        "import torch_geometric.transforms as T\n",
        "from torch_geometric.nn import GCNConv, GAE, VGAE, SGConv, ChebConv\n",
        "from torch_geometric.utils import train_test_split_edges\n",
        "\n",
        "from torch_geometric.utils import to_undirected\n",
        "from ogb.nodeproppred import PygNodePropPredDataset, Evaluator"
      ],
      "execution_count": null,
      "outputs": []
    },
    {
      "cell_type": "code",
      "metadata": {
        "id": "z6LM4bh9_aRd"
      },
      "source": [
        "class LinearEncoder(torch.nn.Module):\n",
        "    def __init__(self, in_channels, out_channels, operation):\n",
        "        super(LinearEncoder, self).__init__()\n",
        "\n",
        "        self.operation = operation\n",
        "\n",
        "        self.conv = SGConv(in_channels=in_channels, out_channels=out_channels, K=2, cached=True)\n",
        "        self.conv2 = SGConv(in_channels=in_channels, out_channels=out_channels, K=3, cached=True)\n",
        "        self.conv3 = SGConv(in_channels=in_channels, out_channels=out_channels, K=4, cached=True)\n",
        "\n",
        "    def forward(self, x, edge_index):\n",
        "        if self.operation == 'sum':\n",
        "          return self.conv(x, edge_index) + self.conv2(x, edge_index) + self.conv3(x, edge_index) \n",
        "        else:\n",
        "          return torch.cat((self.conv(x, edge_index), self.conv2(x, edge_index), self.conv3(x, edge_index)),1)"
      ],
      "execution_count": null,
      "outputs": []
    },
    {
      "cell_type": "code",
      "metadata": {
        "id": "h5lIzTgu_cl1"
      },
      "source": [
        "class VariationalLinearEncoder(torch.nn.Module):\n",
        "    def __init__(self, in_channels, out_channels, operation):\n",
        "        super(VariationalLinearEncoder, self).__init__()\n",
        "\n",
        "        self.operation = operation\n",
        "\n",
        "        self.conv_mu = SGConv(in_channels, out_channels, K=2, cached=True)\n",
        "        self.conv_mu2 = SGConv(in_channels, out_channels, K=3, cached=True)\n",
        "        self.conv_mu3 = SGConv(in_channels, out_channels, K=4, cached=True)\n",
        "\n",
        "        self.conv_logstd = SGConv(in_channels, out_channels, K=2, cached=True)\n",
        "        self.conv_logstd2 = SGConv(in_channels, out_channels, K=3, cached=True)\n",
        "        self.conv_logstd3 = SGConv(in_channels, out_channels, K=4, cached=True)\n",
        "\n",
        "    def forward(self, x, edge_index):\n",
        "        if self.operation == 'sum':\n",
        "          mu = self.conv_mu(x, edge_index) + self.conv_mu2(x, edge_index) + self.conv_mu3(x, edge_index)\n",
        "          logstd = self.conv_logstd(x, edge_index) + self.conv_logstd2(x, edge_index) + self.conv_logstd3(x, edge_index)\n",
        "        else:\n",
        "          mu = torch.cat((self.conv_mu(x, edge_index), self.conv_mu2(x, edge_index), self.conv_mu3(x, edge_index)),1)\n",
        "          logstd = torch.cat((self.conv_logstd(x, edge_index), self.conv_logstd2(x, edge_index), self.conv_logstd3(x, edge_index)),1)\n",
        "        return mu, logstd"
      ],
      "execution_count": null,
      "outputs": []
    },
    {
      "cell_type": "code",
      "metadata": {
        "id": "uSbkvUqp_goR"
      },
      "source": [
        "def train():\n",
        "    model.train()\n",
        "    optimizer.zero_grad()\n",
        "    z = model.encode(x, train_pos_edge_index)\n",
        "    loss = model.recon_loss(z, train_pos_edge_index)\n",
        "\n",
        "    if variational:\n",
        "        loss = loss + (1 / data.num_nodes) * model.kl_loss()\n",
        "    loss.backward(retain_graph=True)\n",
        "    \n",
        "    optimizer.step()\n",
        "    return float(loss)"
      ],
      "execution_count": null,
      "outputs": []
    },
    {
      "cell_type": "code",
      "metadata": {
        "id": "h1mnonLk_lRz"
      },
      "source": [
        "def test(pos_edge_index, neg_edge_index):\n",
        "    model.eval()\n",
        "    \n",
        "    with torch.no_grad():\n",
        "        z = model.encode(x, train_pos_edge_index)\n",
        "    return model.test(z, pos_edge_index, neg_edge_index)"
      ],
      "execution_count": null,
      "outputs": []
    },
    {
      "cell_type": "code",
      "metadata": {
        "id": "47sNuyPQAAu9"
      },
      "source": [
        "variational = False\n",
        "with_features = True\n",
        "name_data = 'pubmed'\n",
        "sigmoid = False\n",
        "operation = 'sum'"
      ],
      "execution_count": null,
      "outputs": []
    },
    {
      "cell_type": "code",
      "metadata": {
        "id": "4uP9F9bd9fTr"
      },
      "source": [
        "loss_list = []\n",
        "auc_list = []\n",
        "ap_list = []\n",
        "\n",
        "dataset = Planetoid(root='/tmp/'+name_data, split='random', name=name_data, transform=T.NormalizeFeatures())\n",
        "data = dataset[0]\n",
        "data.train_mask = data.val_mask = data.test_mask = data.y = None\n",
        "\n",
        "for i in range(20): \n",
        "\n",
        "  data = train_test_split_edges(dataset[0], val_ratio=0.05, test_ratio=0.1 )\n",
        "  out_channels = 16\n",
        "\n",
        "  if with_features:\n",
        "    num_features = dataset.num_features\n",
        "    x = data.x.to(device)\n",
        "  else:\n",
        "    num_features = data.x.shape[0] #no features model\n",
        "    x = torch.eye(data.x.shape[0]).to(device) #no feature model\n",
        "\n",
        "  if variational:\n",
        "    model = VGAE(VariationalLinearEncoder(num_features, out_channels, operation))\n",
        "  else:\n",
        "    model = GAE(LinearEncoder(num_features, out_channels, operation))\n",
        "\n",
        "  model = model.to(device)\n",
        "\n",
        "  train_pos_edge_index = data.train_pos_edge_index.to(device)\n",
        "  optimizer = torch.optim.Adam(model.parameters(), lr=0.01)\n",
        "\n",
        "  for epoch in range(1, 400 + 1):\n",
        "    loss = train()\n",
        "    loss_list.append(loss)\n",
        "    auc, ap = test(data.test_pos_edge_index, data.test_neg_edge_index)\n",
        "    if epoch % 400 == 0:\n",
        "      print('Epoch: {:03d}, AUC: {:.4f}, AP: {:.4f}, Loss: {:.4f}'.format(epoch, auc, ap, loss))\n",
        "    if epoch == 400:\n",
        "      auc_list.append(auc)\n",
        "      ap_list.append(ap)"
      ],
      "execution_count": null,
      "outputs": []
    },
    {
      "cell_type": "code",
      "metadata": {
        "id": "bQGbPtQZ47No"
      },
      "source": [
        "import numpy as np"
      ],
      "execution_count": null,
      "outputs": []
    },
    {
      "cell_type": "code",
      "metadata": {
        "id": "tblFACSF41qd"
      },
      "source": [
        "print(f'{name_data}:')\n",
        "print(f'mean auc: {np.mean(auc_list)} +- {np.var(auc_list)}\\nmean ap: {np.mean(ap_list)} +- {np.std(ap_list)*100}')"
      ],
      "execution_count": null,
      "outputs": []
    },
    {
      "cell_type": "markdown",
      "metadata": {
        "id": "X3uXBM-jnUVH"
      },
      "source": [
        "To mount the adjacency matrix:"
      ]
    },
    {
      "cell_type": "code",
      "metadata": {
        "id": "_0fJP_-qnSOO"
      },
      "source": [
        "with torch.no_grad():\n",
        "  z = model.encode(x, train_pos_edge_index)\n",
        "\n",
        "adj = torch.matmul(z, z.t())\n",
        "adj = torch.sigmoid(adj) if sigmoid else adj"
      ],
      "execution_count": null,
      "outputs": []
    },
    {
      "cell_type": "code",
      "metadata": {
        "id": "nlZ1w6xcrAFy"
      },
      "source": [
        "pos_pred = model.decoder(z, data.test_pos_edge_index, sigmoid=True)\n",
        "neg_pred = model.decoder(z, data.test_neg_edge_index, sigmoid=True)\n",
        "pred = torch.cat([pos_pred, neg_pred], dim=0)"
      ],
      "execution_count": null,
      "outputs": []
    }
  ]
}